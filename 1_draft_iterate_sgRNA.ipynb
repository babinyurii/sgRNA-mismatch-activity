{
 "cells": [
  {
   "cell_type": "code",
   "execution_count": null,
   "metadata": {},
   "outputs": [],
   "source": []
  },
  {
   "cell_type": "code",
   "execution_count": 1,
   "metadata": {},
   "outputs": [
    {
     "data": {
      "text/plain": [
       "25"
      ]
     },
     "execution_count": 1,
     "metadata": {},
     "output_type": "execute_result"
    }
   ],
   "source": [
    "# APOBEC3A\n",
    "len(\"CGCTAATGAGGGTGGCACACTCGGC\")"
   ]
  },
  {
   "cell_type": "code",
   "execution_count": 2,
   "metadata": {},
   "outputs": [
    {
     "data": {
      "text/plain": [
       "24"
      ]
     },
     "execution_count": 2,
     "metadata": {},
     "output_type": "execute_result"
    }
   ],
   "source": [
    "# APOBEC3B\n",
    "len(\"TATTGGAGGTTCCTCTGCCAGCGG\")"
   ]
  },
  {
   "cell_type": "code",
   "execution_count": 3,
   "metadata": {},
   "outputs": [
    {
     "data": {
      "text/plain": [
       "25"
      ]
     },
     "execution_count": 3,
     "metadata": {},
     "output_type": "execute_result"
    }
   ],
   "source": [
    "# APOBEC3G\n",
    "len(\"CAGAAAGAGGGTGAGAGACTGAGGA\")"
   ]
  },
  {
   "cell_type": "code",
   "execution_count": 4,
   "metadata": {},
   "outputs": [
    {
     "data": {
      "text/plain": [
       "26"
      ]
     },
     "execution_count": 4,
     "metadata": {},
     "output_type": "execute_result"
    }
   ],
   "source": [
    "# AID\n",
    "len(\"TCACCCCCACCAGGTACCCCAACGGC\")"
   ]
  },
  {
   "cell_type": "markdown",
   "metadata": {},
   "source": [
    "# input data\n",
    "\n",
    "APOBEC3A  CGCTAATGAGGGTGGCACACTCGGC\n",
    "\n",
    "APOBEC3B   TATTGGAGGTTCCTCTGCCAGCGG\n",
    "\n",
    "APOBEC3G  CAGAAAGAGGGTGAGAGACTGAGGA\n",
    "\n",
    "AID    TCACCCCCACCAGGTACCCCAACGGC"
   ]
  },
  {
   "cell_type": "code",
   "execution_count": 1,
   "metadata": {},
   "outputs": [],
   "source": [
    "apobec3a = \"CGCTAATGAGGGTGGCACACTCGGC\""
   ]
  },
  {
   "cell_type": "code",
   "execution_count": 2,
   "metadata": {},
   "outputs": [],
   "source": [
    "apobec3a_cut = apobec3a[2:-4]"
   ]
  },
  {
   "cell_type": "code",
   "execution_count": 3,
   "metadata": {},
   "outputs": [
    {
     "name": "stdout",
     "output_type": "stream",
     "text": [
      "CGCTAATGAGGGTGGCACACTCGGC\n",
      "--CTAATGAGGGTGGCACACT----\n"
     ]
    }
   ],
   "source": [
    "print(apobec3a)\n",
    "print(\"--\" +  apobec3a_cut + \"----\")"
   ]
  },
  {
   "cell_type": "code",
   "execution_count": 4,
   "metadata": {},
   "outputs": [],
   "source": [
    "mismatches = [\"A\", \"T\", \"G\", \"C\"]"
   ]
  },
  {
   "cell_type": "code",
   "execution_count": 5,
   "metadata": {},
   "outputs": [
    {
     "data": {
      "text/plain": [
       "'TCACACGGTGGGAGTAATC'"
      ]
     },
     "execution_count": 5,
     "metadata": {},
     "output_type": "execute_result"
    }
   ],
   "source": [
    "apobec3a_cut[::-1]"
   ]
  },
  {
   "cell_type": "code",
   "execution_count": null,
   "metadata": {},
   "outputs": [],
   "source": []
  },
  {
   "cell_type": "code",
   "execution_count": 6,
   "metadata": {},
   "outputs": [
    {
     "name": "stdout",
     "output_type": "stream",
     "text": [
      "CTAATGAGGGTGGCACACT\n",
      "CTAATGAGGGTGGCACACA\n",
      "CGCTAATGAGGGTGGCACACTCGGC\n",
      "CGCTAATGAGGGTGGCACACACGGC\n",
      "---------nuc-------\n",
      "CTAATGAGGGTGGCACACT\n",
      "CTAATGAGGGTGGCACACG\n",
      "CGCTAATGAGGGTGGCACACTCGGC\n",
      "CGCTAATGAGGGTGGCACACGCGGC\n",
      "---------nuc-------\n",
      "CTAATGAGGGTGGCACACT\n",
      "CTAATGAGGGTGGCACACC\n",
      "CGCTAATGAGGGTGGCACACTCGGC\n",
      "CGCTAATGAGGGTGGCACACCCGGC\n",
      "---------nuc-------\n",
      "--------position shift---------- -2\n",
      "CTAATGAGGGTGGCACACT\n",
      "CTAATGAGGGTGGCACAAT\n",
      "CGCTAATGAGGGTGGCACACTCGGC\n",
      "CGCTAATGAGGGTGGCACAATCGGC\n",
      "---------nuc-------\n",
      "CTAATGAGGGTGGCACACT\n",
      "CTAATGAGGGTGGCACATT\n",
      "CGCTAATGAGGGTGGCACACTCGGC\n",
      "CGCTAATGAGGGTGGCACATTCGGC\n",
      "---------nuc-------\n",
      "CTAATGAGGGTGGCACACT\n",
      "CTAATGAGGGTGGCACAGT\n",
      "CGCTAATGAGGGTGGCACACTCGGC\n",
      "CGCTAATGAGGGTGGCACAGTCGGC\n",
      "---------nuc-------\n",
      "--------position shift---------- -3\n",
      "CTAATGAGGGTGGCACACT\n",
      "CTAATGAGGGTGGCACTCT\n",
      "CGCTAATGAGGGTGGCACACTCGGC\n",
      "CGCTAATGAGGGTGGCACTCTCGGC\n",
      "---------nuc-------\n",
      "CTAATGAGGGTGGCACACT\n",
      "CTAATGAGGGTGGCACGCT\n",
      "CGCTAATGAGGGTGGCACACTCGGC\n",
      "CGCTAATGAGGGTGGCACGCTCGGC\n",
      "---------nuc-------\n",
      "CTAATGAGGGTGGCACACT\n",
      "CTAATGAGGGTGGCACCCT\n",
      "CGCTAATGAGGGTGGCACACTCGGC\n",
      "CGCTAATGAGGGTGGCACCCTCGGC\n",
      "---------nuc-------\n",
      "--------position shift---------- -4\n",
      "CTAATGAGGGTGGCACACT\n",
      "CTAATGAGGGTGGCAAACT\n",
      "CGCTAATGAGGGTGGCACACTCGGC\n",
      "CGCTAATGAGGGTGGCAAACTCGGC\n",
      "---------nuc-------\n",
      "CTAATGAGGGTGGCACACT\n",
      "CTAATGAGGGTGGCATACT\n",
      "CGCTAATGAGGGTGGCACACTCGGC\n",
      "CGCTAATGAGGGTGGCATACTCGGC\n",
      "---------nuc-------\n",
      "CTAATGAGGGTGGCACACT\n",
      "CTAATGAGGGTGGCAGACT\n",
      "CGCTAATGAGGGTGGCACACTCGGC\n",
      "CGCTAATGAGGGTGGCAGACTCGGC\n",
      "---------nuc-------\n",
      "--------position shift---------- -5\n",
      "CTAATGAGGGTGGCACACT\n",
      "CTAATGAGGGTGGCTCACT\n",
      "CGCTAATGAGGGTGGCACACTCGGC\n",
      "CGCTAATGAGGGTGGCTCACTCGGC\n",
      "---------nuc-------\n",
      "CTAATGAGGGTGGCACACT\n",
      "CTAATGAGGGTGGCGCACT\n",
      "CGCTAATGAGGGTGGCACACTCGGC\n",
      "CGCTAATGAGGGTGGCGCACTCGGC\n",
      "---------nuc-------\n",
      "CTAATGAGGGTGGCACACT\n",
      "CTAATGAGGGTGGCCCACT\n",
      "CGCTAATGAGGGTGGCACACTCGGC\n",
      "CGCTAATGAGGGTGGCCCACTCGGC\n",
      "---------nuc-------\n",
      "--------position shift---------- -6\n",
      "CTAATGAGGGTGGCACACT\n",
      "CTAATGAGGGTGGAACACT\n",
      "CGCTAATGAGGGTGGCACACTCGGC\n",
      "CGCTAATGAGGGTGGAACACTCGGC\n",
      "---------nuc-------\n",
      "CTAATGAGGGTGGCACACT\n",
      "CTAATGAGGGTGGTACACT\n",
      "CGCTAATGAGGGTGGCACACTCGGC\n",
      "CGCTAATGAGGGTGGTACACTCGGC\n",
      "---------nuc-------\n",
      "CTAATGAGGGTGGCACACT\n",
      "CTAATGAGGGTGGGACACT\n",
      "CGCTAATGAGGGTGGCACACTCGGC\n",
      "CGCTAATGAGGGTGGGACACTCGGC\n",
      "---------nuc-------\n",
      "--------position shift---------- -7\n",
      "CTAATGAGGGTGGCACACT\n",
      "CTAATGAGGGTGACACACT\n",
      "CGCTAATGAGGGTGGCACACTCGGC\n",
      "CGCTAATGAGGGTGACACACTCGGC\n",
      "---------nuc-------\n",
      "CTAATGAGGGTGGCACACT\n",
      "CTAATGAGGGTGTCACACT\n",
      "CGCTAATGAGGGTGGCACACTCGGC\n",
      "CGCTAATGAGGGTGTCACACTCGGC\n",
      "---------nuc-------\n",
      "CTAATGAGGGTGGCACACT\n",
      "CTAATGAGGGTGCCACACT\n",
      "CGCTAATGAGGGTGGCACACTCGGC\n",
      "CGCTAATGAGGGTGCCACACTCGGC\n",
      "---------nuc-------\n",
      "--------position shift---------- -8\n",
      "CTAATGAGGGTGGCACACT\n",
      "CTAATGAGGGTAGCACACT\n",
      "CGCTAATGAGGGTGGCACACTCGGC\n",
      "CGCTAATGAGGGTAGCACACTCGGC\n",
      "---------nuc-------\n",
      "CTAATGAGGGTGGCACACT\n",
      "CTAATGAGGGTTGCACACT\n",
      "CGCTAATGAGGGTGGCACACTCGGC\n",
      "CGCTAATGAGGGTTGCACACTCGGC\n",
      "---------nuc-------\n",
      "CTAATGAGGGTGGCACACT\n",
      "CTAATGAGGGTCGCACACT\n",
      "CGCTAATGAGGGTGGCACACTCGGC\n",
      "CGCTAATGAGGGTCGCACACTCGGC\n",
      "---------nuc-------\n",
      "--------position shift---------- -9\n",
      "CTAATGAGGGTGGCACACT\n",
      "CTAATGAGGGAGGCACACT\n",
      "CGCTAATGAGGGTGGCACACTCGGC\n",
      "CGCTAATGAGGGAGGCACACTCGGC\n",
      "---------nuc-------\n",
      "CTAATGAGGGTGGCACACT\n",
      "CTAATGAGGGGGGCACACT\n",
      "CGCTAATGAGGGTGGCACACTCGGC\n",
      "CGCTAATGAGGGGGGCACACTCGGC\n",
      "---------nuc-------\n",
      "CTAATGAGGGTGGCACACT\n",
      "CTAATGAGGGCGGCACACT\n",
      "CGCTAATGAGGGTGGCACACTCGGC\n",
      "CGCTAATGAGGGCGGCACACTCGGC\n",
      "---------nuc-------\n",
      "--------position shift---------- -10\n",
      "CTAATGAGGGTGGCACACT\n",
      "CTAATGAGGATGGCACACT\n",
      "CGCTAATGAGGGTGGCACACTCGGC\n",
      "CGCTAATGAGGATGGCACACTCGGC\n",
      "---------nuc-------\n",
      "CTAATGAGGGTGGCACACT\n",
      "CTAATGAGGTTGGCACACT\n",
      "CGCTAATGAGGGTGGCACACTCGGC\n",
      "CGCTAATGAGGTTGGCACACTCGGC\n",
      "---------nuc-------\n",
      "CTAATGAGGGTGGCACACT\n",
      "CTAATGAGGCTGGCACACT\n",
      "CGCTAATGAGGGTGGCACACTCGGC\n",
      "CGCTAATGAGGCTGGCACACTCGGC\n",
      "---------nuc-------\n",
      "--------position shift---------- -11\n",
      "CTAATGAGGGTGGCACACT\n",
      "CTAATGAGAGTGGCACACT\n",
      "CGCTAATGAGGGTGGCACACTCGGC\n",
      "CGCTAATGAGAGTGGCACACTCGGC\n",
      "---------nuc-------\n",
      "CTAATGAGGGTGGCACACT\n",
      "CTAATGAGTGTGGCACACT\n",
      "CGCTAATGAGGGTGGCACACTCGGC\n",
      "CGCTAATGAGTGTGGCACACTCGGC\n",
      "---------nuc-------\n",
      "CTAATGAGGGTGGCACACT\n",
      "CTAATGAGCGTGGCACACT\n",
      "CGCTAATGAGGGTGGCACACTCGGC\n",
      "CGCTAATGAGCGTGGCACACTCGGC\n",
      "---------nuc-------\n",
      "--------position shift---------- -12\n",
      "CTAATGAGGGTGGCACACT\n",
      "CTAATGAAGGTGGCACACT\n",
      "CGCTAATGAGGGTGGCACACTCGGC\n",
      "CGCTAATGAAGGTGGCACACTCGGC\n",
      "---------nuc-------\n",
      "CTAATGAGGGTGGCACACT\n",
      "CTAATGATGGTGGCACACT\n",
      "CGCTAATGAGGGTGGCACACTCGGC\n",
      "CGCTAATGATGGTGGCACACTCGGC\n",
      "---------nuc-------\n",
      "CTAATGAGGGTGGCACACT\n",
      "CTAATGACGGTGGCACACT\n",
      "CGCTAATGAGGGTGGCACACTCGGC\n",
      "CGCTAATGACGGTGGCACACTCGGC\n",
      "---------nuc-------\n",
      "--------position shift---------- -13\n",
      "CTAATGAGGGTGGCACACT\n",
      "CTAATGTGGGTGGCACACT\n",
      "CGCTAATGAGGGTGGCACACTCGGC\n",
      "CGCTAATGTGGGTGGCACACTCGGC\n",
      "---------nuc-------\n",
      "CTAATGAGGGTGGCACACT\n",
      "CTAATGGGGGTGGCACACT\n",
      "CGCTAATGAGGGTGGCACACTCGGC\n",
      "CGCTAATGGGGGTGGCACACTCGGC\n",
      "---------nuc-------\n",
      "CTAATGAGGGTGGCACACT\n",
      "CTAATGCGGGTGGCACACT\n",
      "CGCTAATGAGGGTGGCACACTCGGC\n",
      "CGCTAATGCGGGTGGCACACTCGGC\n",
      "---------nuc-------\n",
      "--------position shift---------- -14\n",
      "CTAATGAGGGTGGCACACT\n",
      "CTAATAAGGGTGGCACACT\n",
      "CGCTAATGAGGGTGGCACACTCGGC\n",
      "CGCTAATAAGGGTGGCACACTCGGC\n",
      "---------nuc-------\n",
      "CTAATGAGGGTGGCACACT\n",
      "CTAATTAGGGTGGCACACT\n",
      "CGCTAATGAGGGTGGCACACTCGGC\n",
      "CGCTAATTAGGGTGGCACACTCGGC\n",
      "---------nuc-------\n",
      "CTAATGAGGGTGGCACACT\n",
      "CTAATCAGGGTGGCACACT\n",
      "CGCTAATGAGGGTGGCACACTCGGC\n",
      "CGCTAATCAGGGTGGCACACTCGGC\n",
      "---------nuc-------\n",
      "--------position shift---------- -15\n",
      "CTAATGAGGGTGGCACACT\n",
      "CTAAAGAGGGTGGCACACT\n",
      "CGCTAATGAGGGTGGCACACTCGGC\n",
      "CGCTAAAGAGGGTGGCACACTCGGC\n",
      "---------nuc-------\n",
      "CTAATGAGGGTGGCACACT\n",
      "CTAAGGAGGGTGGCACACT\n",
      "CGCTAATGAGGGTGGCACACTCGGC\n",
      "CGCTAAGGAGGGTGGCACACTCGGC\n",
      "---------nuc-------\n",
      "CTAATGAGGGTGGCACACT\n",
      "CTAACGAGGGTGGCACACT\n",
      "CGCTAATGAGGGTGGCACACTCGGC\n",
      "CGCTAACGAGGGTGGCACACTCGGC\n",
      "---------nuc-------\n",
      "--------position shift---------- -16\n",
      "CTAATGAGGGTGGCACACT\n",
      "CTATTGAGGGTGGCACACT\n",
      "CGCTAATGAGGGTGGCACACTCGGC\n",
      "CGCTATTGAGGGTGGCACACTCGGC\n",
      "---------nuc-------\n",
      "CTAATGAGGGTGGCACACT\n",
      "CTAGTGAGGGTGGCACACT\n",
      "CGCTAATGAGGGTGGCACACTCGGC\n",
      "CGCTAGTGAGGGTGGCACACTCGGC\n",
      "---------nuc-------\n",
      "CTAATGAGGGTGGCACACT\n",
      "CTACTGAGGGTGGCACACT\n",
      "CGCTAATGAGGGTGGCACACTCGGC\n",
      "CGCTACTGAGGGTGGCACACTCGGC\n",
      "---------nuc-------\n",
      "--------position shift---------- -17\n",
      "CTAATGAGGGTGGCACACT\n",
      "CTTATGAGGGTGGCACACT\n",
      "CGCTAATGAGGGTGGCACACTCGGC\n",
      "CGCTTATGAGGGTGGCACACTCGGC\n",
      "---------nuc-------\n",
      "CTAATGAGGGTGGCACACT\n",
      "CTGATGAGGGTGGCACACT\n",
      "CGCTAATGAGGGTGGCACACTCGGC\n",
      "CGCTGATGAGGGTGGCACACTCGGC\n",
      "---------nuc-------\n",
      "CTAATGAGGGTGGCACACT\n",
      "CTCATGAGGGTGGCACACT\n",
      "CGCTAATGAGGGTGGCACACTCGGC\n",
      "CGCTCATGAGGGTGGCACACTCGGC\n",
      "---------nuc-------\n",
      "--------position shift---------- -18\n",
      "CTAATGAGGGTGGCACACT\n",
      "CAAATGAGGGTGGCACACT\n",
      "CGCTAATGAGGGTGGCACACTCGGC\n",
      "CGCAAATGAGGGTGGCACACTCGGC\n",
      "---------nuc-------\n",
      "CTAATGAGGGTGGCACACT\n",
      "CGAATGAGGGTGGCACACT\n",
      "CGCTAATGAGGGTGGCACACTCGGC\n",
      "CGCGAATGAGGGTGGCACACTCGGC\n",
      "---------nuc-------\n",
      "CTAATGAGGGTGGCACACT\n",
      "CCAATGAGGGTGGCACACT\n",
      "CGCTAATGAGGGTGGCACACTCGGC\n",
      "CGCCAATGAGGGTGGCACACTCGGC\n",
      "---------nuc-------\n",
      "--------position shift---------- -19\n",
      "CTAATGAGGGTGGCACACT\n",
      "ATAATGAGGGTGGCACACT\n",
      "CGCTAATGAGGGTGGCACACTCGGC\n",
      "CGATAATGAGGGTGGCACACTCGGC\n",
      "---------nuc-------\n",
      "CTAATGAGGGTGGCACACT\n",
      "TTAATGAGGGTGGCACACT\n",
      "CGCTAATGAGGGTGGCACACTCGGC\n",
      "CGTTAATGAGGGTGGCACACTCGGC\n",
      "---------nuc-------\n",
      "CTAATGAGGGTGGCACACT\n",
      "GTAATGAGGGTGGCACACT\n",
      "CGCTAATGAGGGTGGCACACTCGGC\n",
      "CGGTAATGAGGGTGGCACACTCGGC\n",
      "---------nuc-------\n",
      "--------position shift---------- -20\n"
     ]
    }
   ],
   "source": [
    "\n",
    "current_position = -1\n",
    "for nuc in apobec3a_cut[::-1]:\n",
    "    for mismatch in mismatches:\n",
    "        if nuc == mismatch:\n",
    "            continue\n",
    "        \n",
    "        apobec3a_cut_mis = list(apobec3a_cut)\n",
    "        apobec3a_cut_mis[current_position] = mismatch # mismatch\n",
    "        \n",
    "        print(apobec3a_cut)\n",
    "        print(\"\".join(apobec3a_cut_mis))\n",
    "        apobec3a_cut_mis_with_ends = \"CG\" + \"\".join(apobec3a_cut_mis) + \"CGGC\"\n",
    "        print(apobec3a) # genome input\n",
    "        print(apobec3a_cut_mis_with_ends) # sgRNA input\n",
    "        print(\"---------nuc-------\")\n",
    "        \n",
    "    current_position -= 1 # current position before this is mismatch position\n",
    "    apobec3a_cut_mis_with_ends = \"CG\" + \"\".join(apobec3a_cut_mis) + \"CGGC\"\n",
    "   \n",
    "  \n",
    "    print(\"--------position shift----------\", current_position)\n",
    "    \n",
    "    \n",
    "    \n",
    "    # plus ends which were cut out\n",
    "    \n",
    "    \n",
    "    \n",
    "\n",
    "        \n",
    "       "
   ]
  },
  {
   "cell_type": "code",
   "execution_count": null,
   "metadata": {},
   "outputs": [],
   "source": []
  },
  {
   "cell_type": "code",
   "execution_count": null,
   "metadata": {},
   "outputs": [],
   "source": []
  },
  {
   "cell_type": "code",
   "execution_count": null,
   "metadata": {},
   "outputs": [],
   "source": []
  },
  {
   "cell_type": "code",
   "execution_count": null,
   "metadata": {},
   "outputs": [],
   "source": []
  },
  {
   "cell_type": "code",
   "execution_count": null,
   "metadata": {},
   "outputs": [],
   "source": []
  },
  {
   "cell_type": "code",
   "execution_count": null,
   "metadata": {},
   "outputs": [],
   "source": []
  }
 ],
 "metadata": {
  "kernelspec": {
   "display_name": "Python 3",
   "language": "python",
   "name": "python3"
  },
  "language_info": {
   "codemirror_mode": {
    "name": "ipython",
    "version": 3
   },
   "file_extension": ".py",
   "mimetype": "text/x-python",
   "name": "python",
   "nbconvert_exporter": "python",
   "pygments_lexer": "ipython3",
   "version": "3.7.6"
  }
 },
 "nbformat": 4,
 "nbformat_minor": 4
}
